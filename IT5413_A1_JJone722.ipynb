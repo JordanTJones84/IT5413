{
  "nbformat": 4,
  "nbformat_minor": 0,
  "metadata": {
    "colab": {
      "provenance": [],
      "authorship_tag": "ABX9TyM0aCIZo4VHOlgzuLb3tedB",
      "include_colab_link": true
    },
    "kernelspec": {
      "name": "python3",
      "display_name": "Python 3"
    },
    "language_info": {
      "name": "python"
    }
  },
  "cells": [
    {
      "cell_type": "markdown",
      "metadata": {
        "id": "view-in-github",
        "colab_type": "text"
      },
      "source": [
        "<a href=\"https://colab.research.google.com/github/JordanTJones84/IT5413/blob/main/IT5413_A1_JJone722.ipynb\" target=\"_parent\"><img src=\"https://colab.research.google.com/assets/colab-badge.svg\" alt=\"Open In Colab\"/></a>"
      ]
    },
    {
      "cell_type": "code",
      "source": [
        "# Enter details for 8 items\n",
        "print(\"Enter details for 8 items:\")\n",
        "\n",
        "# Item 1\n",
        "item1_name = input(\"Name of item 1: \")\n",
        "item1_price = input(\"Price of item 1: \")\n",
        "\n",
        "# Item 2\n",
        "item2_name = input(\"Name of item 2: \")\n",
        "item2_price = input(\"Price of item 2: \")\n",
        "\n",
        "# Item 3\n",
        "item3_name = input(\"Name of item 3: \")\n",
        "item3_price = input(\"Price of item 3: \")\n",
        "\n",
        "# Item 4\n",
        "item4_name = input(\"Name of item 4: \")\n",
        "item4_price = input(\"Price of item 4: \")\n",
        "\n",
        "# Item 5\n",
        "item5_name = input(\"Name of item 5: \")\n",
        "item5_price = input(\"Price of item 5: \")\n",
        "\n",
        "# Item 6\n",
        "item6_name = input(\"Name of item 6: \")\n",
        "item6_price = input(\"Price of item 6: \")\n",
        "\n",
        "# Item 7\n",
        "item7_name = input(\"Name of item 7: \")\n",
        "item7_price = input(\"Price of item 7: \")\n",
        "\n",
        "# Item 8\n",
        "item8_name = input(\"Name of item 8: \")\n",
        "item8_price = input(\"Price of item 8: \")\n",
        "\n",
        "# Display the entered items and prices\n",
        "print(\"\\nItems Purchased:\")\n",
        "print(item1_name + \" \" + \"$\" + item1_price)\n",
        "print(item2_name + \" \" + \"$\" + item2_price)\n",
        "print(item3_name + \" \" + \"$\" + item3_price)\n",
        "print(item4_name + \" \" + \"$\" + item4_price)\n",
        "print(item5_name + \" \" + \"$\" + item5_price)\n",
        "print(item6_name + \" \" + \"$\" + item6_price)\n",
        "print(item7_name + \" \" + \"$\" + item7_price)\n",
        "print(item8_name + \" \" + \"$\" + item8_price)\n",
        "\n"
      ],
      "metadata": {
        "colab": {
          "base_uri": "https://localhost:8080/"
        },
        "id": "so3V89DPGfYt",
        "outputId": "eb34aacf-2561-4ef5-8415-8a1be4d60126"
      },
      "execution_count": 1,
      "outputs": [
        {
          "output_type": "stream",
          "name": "stdout",
          "text": [
            "Enter details for 8 items:\n",
            "Name of item 1: Apples\n",
            "Price of item 1: 2.10\n",
            "Name of item 2: Hamburger\n",
            "Price of item 2: 3.25\n",
            "Name of item 3: Milk\n",
            "Price of item 3: 3.49\n",
            "Name of item 4: Sugar\n",
            "Price of item 4: 1.99\n",
            "Name of item 5: Bread\n",
            "Price of item 5: 1.76\n",
            "Name of item 6: Deli Turkey\n",
            "Price of item 6: 7.99\n",
            "Name of item 7: Pickles\n",
            "Price of item 7: 3.42\n",
            "Name of item 8: Butter\n",
            "Price of item 8: 2.79\n",
            "\n",
            "Items Purchased:\n",
            "Apples $2.10\n",
            "Hamburger $3.25\n",
            "Milk $3.49\n",
            "Sugar $1.99\n",
            "Bread $1.76\n",
            "Deli Turkey $7.99\n",
            "Pickles $3.42\n",
            "Butter $2.79\n"
          ]
        }
      ]
    }
  ]
}