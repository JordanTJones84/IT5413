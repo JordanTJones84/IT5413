{
  "nbformat": 4,
  "nbformat_minor": 0,
  "metadata": {
    "colab": {
      "provenance": [],
      "authorship_tag": "ABX9TyPXl20SJDcNLPG9081LlA1X",
      "include_colab_link": true
    },
    "kernelspec": {
      "name": "python3",
      "display_name": "Python 3"
    },
    "language_info": {
      "name": "python"
    }
  },
  "cells": [
    {
      "cell_type": "markdown",
      "metadata": {
        "id": "view-in-github",
        "colab_type": "text"
      },
      "source": [
        "<a href=\"https://colab.research.google.com/github/JordanTJones84/IT5413/blob/main/IT5413_A2_JJone722.ipynb\" target=\"_parent\"><img src=\"https://colab.research.google.com/assets/colab-badge.svg\" alt=\"Open In Colab\"/></a>"
      ]
    },
    {
      "cell_type": "code",
      "source": [
        "# Program to calculate and display projected tuition for the next 7 years\n",
        "\n",
        "# Tuition rates in 2020\n",
        "full_time_tuition_2020 = 6549\n",
        "part_time_tuition_2020 = 3325\n",
        "\n",
        "# Tuition increase rate\n",
        "increase_rate = 0.035\n",
        "\n",
        "# Ask user whether they are a full time or part time student\n",
        "student_type = input(\"Are you a full time or part time student? (Enter 'full time' or 'part time'): \").strip().lower()\n",
        "\n",
        "# Initialize tuition based on student type\n",
        "if student_type == \"full time\":\n",
        "    tuition = full_time_tuition_2020\n",
        "elif student_type == \"part time\":\n",
        "    tuition = part_time_tuition_2020\n",
        "else:\n",
        "    print(\"Invalid input. Please enter 'full time' or 'part time'.\")\n",
        "    exit()\n",
        "\n",
        "# Loop through the years 2021 to 2027\n",
        "for year in range(2021, 2028):\n",
        "    # Calculate the projected tuition for that year\n",
        "    tuition = tuition * (1 + increase_rate)\n",
        "\n",
        "    # Display the year and projected tuition\n",
        "    print(f\"Year {year}: ${tuition:.2f} per semester\")\n"
      ],
      "metadata": {
        "colab": {
          "base_uri": "https://localhost:8080/"
        },
        "id": "nMQsNBbKAzIv",
        "outputId": "35e30cbd-7620-491f-8370-7fbc00670b60"
      },
      "execution_count": 3,
      "outputs": [
        {
          "output_type": "stream",
          "name": "stdout",
          "text": [
            "Are you a full time or part time student? (Enter 'full time' or 'part time'): part time\n",
            "Year 2021: $3441.37 per semester\n",
            "Year 2022: $3561.82 per semester\n",
            "Year 2023: $3686.49 per semester\n",
            "Year 2024: $3815.51 per semester\n",
            "Year 2025: $3949.06 per semester\n",
            "Year 2026: $4087.27 per semester\n",
            "Year 2027: $4230.33 per semester\n"
          ]
        }
      ]
    }
  ]
}