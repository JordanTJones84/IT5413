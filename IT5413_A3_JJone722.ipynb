{
  "nbformat": 4,
  "nbformat_minor": 0,
  "metadata": {
    "colab": {
      "provenance": [],
      "authorship_tag": "ABX9TyPvSY7tSZNZfKWNxN9HR/xA",
      "include_colab_link": true
    },
    "kernelspec": {
      "name": "python3",
      "display_name": "Python 3"
    },
    "language_info": {
      "name": "python"
    }
  },
  "cells": [
    {
      "cell_type": "markdown",
      "metadata": {
        "id": "view-in-github",
        "colab_type": "text"
      },
      "source": [
        "<a href=\"https://colab.research.google.com/github/JordanTJones84/IT5413/blob/main/IT5413_A3_JJone722.ipynb\" target=\"_parent\"><img src=\"https://colab.research.google.com/assets/colab-badge.svg\" alt=\"Open In Colab\"/></a>"
      ]
    },
    {
      "cell_type": "code",
      "source": [
        "# Student Grade Calculator\n",
        "# IT5413 Assignment 3\n",
        "# Jordan Jones\n",
        "# Description: This program takes a student's name and eight test scores, calculates the average score, assigns a letter grade, and displays the results.\n",
        "\n",
        "# Function to calculate the average of 8 test scores\n",
        "def calc_average(scores):\n",
        "  # Calculate and return the average score\n",
        "    return sum(scores) / len(scores)\n",
        "\n",
        "# Function to determine the letter grade for a given score\n",
        "def determine_grade(score):\n",
        "    if score >= 90:\n",
        "        return 'A'\n",
        "    elif score >= 80:\n",
        "        return 'B'\n",
        "    elif score >= 70:\n",
        "        return 'C'\n",
        "    elif score >= 60:\n",
        "        return 'D'\n",
        "    else:\n",
        "        return 'F'\n",
        "\n",
        "# Main function\n",
        "def main():\n",
        "    # Get student name\n",
        "    student_name = input(\"Enter the student's name: \")\n",
        "\n",
        "    # Initialize an empty list for scores\n",
        "    scores = []\n",
        "\n",
        "    # Collect 8 test scores with input validation\n",
        "    print(\"Enter 8 test scores (out of 100):\")\n",
        "    for i in range(8):\n",
        "        while True:\n",
        "            try:\n",
        "                score = float(input(f\"Test {i + 1}: \"))\n",
        "                if 0 <= score <= 100:\n",
        "                    scores.append(score)\n",
        "                    break\n",
        "                else:\n",
        "                    print(\"ERROR: Score must be between 0 and 100.\")\n",
        "            except ValueError:\n",
        "                print(\"ERROR: Invalid input. Please enter a numeric value.\")\n",
        "\n",
        "    # Compute the average score\n",
        "    average_score = calc_average(scores)\n",
        "\n",
        "    # Determine letter grade for each test score\n",
        "    letter_grades = []\n",
        "    for score in scores:\n",
        "        letter_grades.append(determine_grade(score))\n",
        "\n",
        "    # Determine final letter grade from the average score\n",
        "    final_grade = determine_grade(average_score)\n",
        "\n",
        "    # Display results\n",
        "    print(\"\\nStudent Name:\", student_name)\n",
        "    print(\"\\nTest Scores and Grades:\")\n",
        "    for i in range(len(scores)):\n",
        "        print(f\"Test {i + 1}: {scores[i]} - Grade: {letter_grades[i]}\")\n",
        "\n",
        "    print(\"\\nAverage Score:\", round(average_score, 2))\n",
        "    print(\"Final Grade:\", final_grade)\n",
        "\n",
        "\n",
        "# Run the program\n",
        "if __name__ == \"__main__\":\n",
        "    main()\n"
      ],
      "metadata": {
        "colab": {
          "base_uri": "https://localhost:8080/"
        },
        "id": "GibFlMIUE-pa",
        "outputId": "6a7ad9e0-e908-492a-a810-0559bc4a8bcb"
      },
      "execution_count": 2,
      "outputs": [
        {
          "output_type": "stream",
          "name": "stdout",
          "text": [
            "Enter the student's name: Jordan Jones\n",
            "Enter 8 test scores (out of 100):\n",
            "Test 1: 100\n",
            "Test 2: 90\n",
            "Test 3: Five\n",
            "ERROR: Invalid input. Please enter a numeric value.\n",
            "Test 3: 1000\n",
            "ERROR: Score must be between 0 and 100.\n",
            "Test 3: 100\n",
            "Test 4: 98\n",
            "Test 5: 99\n",
            "Test 6: 89\n",
            "Test 7: 100\n",
            "Test 8: 98\n",
            "\n",
            "Student Name: Jordan Jones\n",
            "\n",
            "Test Scores and Grades:\n",
            "Test 1: 100.0 - Grade: A\n",
            "Test 2: 90.0 - Grade: A\n",
            "Test 3: 100.0 - Grade: A\n",
            "Test 4: 98.0 - Grade: A\n",
            "Test 5: 99.0 - Grade: A\n",
            "Test 6: 89.0 - Grade: B\n",
            "Test 7: 100.0 - Grade: A\n",
            "Test 8: 98.0 - Grade: A\n",
            "\n",
            "Average Score: 96.75\n",
            "Final Grade: A\n"
          ]
        }
      ]
    }
  ]
}