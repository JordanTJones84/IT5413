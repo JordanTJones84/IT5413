{
  "nbformat": 4,
  "nbformat_minor": 0,
  "metadata": {
    "colab": {
      "provenance": [],
      "authorship_tag": "ABX9TyNk5FMI4ZStMTsmC4UVpKIj",
      "include_colab_link": true
    },
    "kernelspec": {
      "name": "python3",
      "display_name": "Python 3"
    },
    "language_info": {
      "name": "python"
    }
  },
  "cells": [
    {
      "cell_type": "markdown",
      "metadata": {
        "id": "view-in-github",
        "colab_type": "text"
      },
      "source": [
        "<a href=\"https://colab.research.google.com/github/JordanTJones84/IT5413/blob/main/IT5413_A4_JJone722.ipynb\" target=\"_parent\"><img src=\"https://colab.research.google.com/assets/colab-badge.svg\" alt=\"Open In Colab\"/></a>"
      ]
    },
    {
      "cell_type": "code",
      "source": [
        "# Rainfall Calculator\n",
        "#IT5413 Assignment 4\n",
        "# Jordan Jones\n",
        "# Description:  The program calculates and displays the total rainfall for the year, the average monthly rainfall, and the months with the highest and lowest rainfall amounts.\n",
        "\n",
        "def main():\n",
        "    # List of months\n",
        "    months = [\n",
        "        \"January\", \"February\", \"March\", \"April\", \"May\", \"June\", \"July\", \"August\", \"September\", \"October\", \"November\", \"December\"\n",
        "    ]\n",
        "\n",
        "    # List to store rainfall data\n",
        "    rainfall = []\n",
        "\n",
        "    # User input for rainfall data\n",
        "    for month in months:\n",
        "        while True:\n",
        "            try:\n",
        "                value = float(input(f\"Enter total rainfall for {month}: \"))\n",
        "                if value < 0:\n",
        "                    print(\"Please enter a non-negative value.\")\n",
        "                else:\n",
        "                    rainfall.append(value)\n",
        "                    break\n",
        "            except ValueError:\n",
        "                print(\"Invalid input. Please enter a numeric value.\")\n",
        "\n",
        "    # Calculate total rainfall for the year\n",
        "    total_rainfall = sum(rainfall)\n",
        "\n",
        "    # Calculate average monthly rainfall\n",
        "    average_rainfall = total_rainfall / len(rainfall)\n",
        "\n",
        "    # Find the months with highest and lowest rainfall\n",
        "    max_rainfall = max(rainfall)\n",
        "    min_rainfall = min(rainfall)\n",
        "\n",
        "    max_month = months[rainfall.index(max_rainfall)]\n",
        "    min_month = months[rainfall.index(min_rainfall)]\n",
        "\n",
        "    # Display results\n",
        "    print(f\"\\nTotal rainfall for the year: {total_rainfall:.2f} inches\")\n",
        "    print(f\"Average monthly rainfall: {average_rainfall:.2f} inches\")\n",
        "    print(f\"Month with highest rainfall: {max_month} ({max_rainfall} inches)\")\n",
        "    print(f\"Month with lowest rainfall: {min_month} ({min_rainfall} inches)\")\n",
        "\n",
        "if __name__ == \"__main__\":\n",
        "    main()\n"
      ],
      "metadata": {
        "colab": {
          "base_uri": "https://localhost:8080/"
        },
        "id": "rjCcMXHxjNt8",
        "outputId": "b6d115c4-e109-4046-d03e-ddb3983db6cf"
      },
      "execution_count": null,
      "outputs": [
        {
          "output_type": "stream",
          "name": "stdout",
          "text": [
            "Enter total rainfall for January: 7.9\n",
            "Enter total rainfall for February: 10.1\n",
            "Enter total rainfall for March: Five inches\n",
            "Invalid input. Please enter a numeric value.\n",
            "Enter total rainfall for March: 3.4\n",
            "Enter total rainfall for April: 6.7\n",
            "Enter total rainfall for May: -8.9\n",
            "Please enter a non-negative value.\n",
            "Enter total rainfall for May: 8.9\n",
            "Enter total rainfall for June: 9.4\n",
            "Enter total rainfall for July: 5.9\n",
            "Enter total rainfall for August: 4.1\n",
            "Enter total rainfall for September: 3.7\n",
            "Enter total rainfall for October: 5.1\n",
            "Enter total rainfall for November: 7.2\n",
            "Enter total rainfall for December: 8.3\n",
            "\n",
            "Total rainfall for the year: 80.70 inches\n",
            "Average monthly rainfall: 6.73 inches\n",
            "Month with highest rainfall: February (10.1 inches)\n",
            "Month with lowest rainfall: March (3.4 inches)\n"
          ]
        }
      ]
    }
  ]
}